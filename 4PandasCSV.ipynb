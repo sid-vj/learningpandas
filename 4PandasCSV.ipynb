{
  "nbformat": 4,
  "nbformat_minor": 0,
  "metadata": {
    "colab": {
      "provenance": [],
      "authorship_tag": "ABX9TyN3Kpsurr3vrsw/ZPUr6ZMD",
      "include_colab_link": true
    },
    "kernelspec": {
      "name": "python3",
      "display_name": "Python 3"
    },
    "language_info": {
      "name": "python"
    }
  },
  "cells": [
    {
      "cell_type": "markdown",
      "metadata": {
        "id": "view-in-github",
        "colab_type": "text"
      },
      "source": [
        "<a href=\"https://colab.research.google.com/github/sid-vj/learningpandas/blob/main/4PandasCSV.ipynb\" target=\"_parent\"><img src=\"https://colab.research.google.com/assets/colab-badge.svg\" alt=\"Open In Colab\"/></a>"
      ]
    },
    {
      "cell_type": "markdown",
      "source": [
        "#Pandas CSV"
      ],
      "metadata": {
        "id": "VIWDlyVMj2xe"
      }
    },
    {
      "cell_type": "code",
      "execution_count": 1,
      "metadata": {
        "id": "rzjcqy2EhnNh"
      },
      "outputs": [],
      "source": [
        "import pandas as pd"
      ]
    },
    {
      "cell_type": "code",
      "source": [
        "#Loading CSV in Dataframe\n",
        "\n",
        "df = pd.read_csv(\"test.csv\")\n",
        "print(df)"
      ],
      "metadata": {
        "colab": {
          "base_uri": "https://localhost:8080/"
        },
        "id": "u2dmjXu8j8ZL",
        "outputId": "19b86fe4-a925-4e26-9898-aac9bfd2491e"
      },
      "execution_count": 3,
      "outputs": [
        {
          "output_type": "stream",
          "name": "stdout",
          "text": [
            "    Hey  Marks  Your Ass\n",
            "0  Jude      1        10\n",
            "1   Dom      2       100\n"
          ]
        }
      ]
    },
    {
      "cell_type": "code",
      "source": [
        "  print(df.ndim)"
      ],
      "metadata": {
        "colab": {
          "base_uri": "https://localhost:8080/"
        },
        "id": "FD3yhjJykDx1",
        "outputId": "1b282cd8-33a6-4d9a-c18e-7b220198acaf"
      },
      "execution_count": 4,
      "outputs": [
        {
          "output_type": "stream",
          "name": "stdout",
          "text": [
            "2\n"
          ]
        }
      ]
    },
    {
      "cell_type": "code",
      "source": [
        "print(df.head(1))\n",
        "print(df.tail())"
      ],
      "metadata": {
        "colab": {
          "base_uri": "https://localhost:8080/"
        },
        "id": "cKGDUqrBkqCe",
        "outputId": "374a197a-e257-4273-97b5-d7d19edc0bd4"
      },
      "execution_count": 5,
      "outputs": [
        {
          "output_type": "stream",
          "name": "stdout",
          "text": [
            "    Hey  Marks  Your Ass\n",
            "0  Jude      1        10\n",
            "    Hey  Marks  Your Ass\n",
            "0  Jude      1        10\n",
            "1   Dom      2       100\n"
          ]
        }
      ]
    },
    {
      "cell_type": "code",
      "source": [
        "#To read an excel file, we need to use ope pyxl. No difference. (.xlsx)"
      ],
      "metadata": {
        "id": "ZAHBMEyDkty6"
      },
      "execution_count": 6,
      "outputs": []
    },
    {
      "cell_type": "markdown",
      "source": [
        "##Operations on CSV using Pandas"
      ],
      "metadata": {
        "id": "PktInxX7oF6X"
      }
    },
    {
      "cell_type": "code",
      "source": [
        "#To select multiple columns in pandas\n",
        "\n",
        "print(df[df.columns[0:1]])"
      ],
      "metadata": {
        "colab": {
          "base_uri": "https://localhost:8080/"
        },
        "id": "CThifXlSmBKK",
        "outputId": "df02a586-62fc-4c00-f37a-fc79b79d47f2"
      },
      "execution_count": 8,
      "outputs": [
        {
          "output_type": "stream",
          "name": "stdout",
          "text": [
            "    Hey\n",
            "0  Jude\n",
            "1   Dom\n"
          ]
        }
      ]
    },
    {
      "cell_type": "code",
      "source": [
        "#To add new columns the csv/excel.\n",
        "\n",
        "df.insert(4,\"Addres\",[\"North Av\",\"South Ave\"]) #it follows the loc, name, value structure\n",
        "print(df)"
      ],
      "metadata": {
        "colab": {
          "base_uri": "https://localhost:8080/"
        },
        "id": "_u6oh2kYmJjF",
        "outputId": "c69e44b8-9f96-4e37-cb0d-8b449d46b222"
      },
      "execution_count": 15,
      "outputs": [
        {
          "output_type": "stream",
          "name": "stdout",
          "text": [
            "    Hey  Marks  Your Ass  Aadhar     Addres\n",
            "0  Jude      1        10      12   North Av\n",
            "1   Dom      2       100      14  South Ave\n"
          ]
        }
      ]
    },
    {
      "cell_type": "code",
      "source": [
        "#To add new columns directly into the last, we can use\n",
        "\n",
        "updated_df = df.assign(Height = [177, 178])\n",
        "print(df)\n",
        "print(updated_df)"
      ],
      "metadata": {
        "colab": {
          "base_uri": "https://localhost:8080/"
        },
        "id": "xNrEmEFJm7Xm",
        "outputId": "67a55ad8-5854-4fbc-d456-c75aa182e548"
      },
      "execution_count": 20,
      "outputs": [
        {
          "output_type": "stream",
          "name": "stdout",
          "text": [
            "    Hey  Marks  Your Ass  Aadhar     Addres\n",
            "0  Jude      1        10      12   North Av\n",
            "1   Dom      2       100      14  South Ave\n",
            "    Hey  Marks  Your Ass  Aadhar     Addres  Height\n",
            "0  Jude      1        10      12   North Av     177\n",
            "1   Dom      2       100      14  South Ave     178\n"
          ]
        }
      ]
    },
    {
      "cell_type": "code",
      "source": [
        "# To delete rows and columns\n",
        "\n",
        "up_df = df.drop(\"Marks\", axis='columns') #we can also give axis as 1\n",
        "print(up_df)\n",
        "print(\"\\n\")\n",
        "up_df2 = df.drop(1, axis='index') #we can also give axis as 0\n",
        "print(up_df2)"
      ],
      "metadata": {
        "colab": {
          "base_uri": "https://localhost:8080/"
        },
        "id": "UqBWmBiincrE",
        "outputId": "eea74918-374b-4398-8763-b7b3cc14ff3f"
      },
      "execution_count": 26,
      "outputs": [
        {
          "output_type": "stream",
          "name": "stdout",
          "text": [
            "    Hey  Your Ass  Aadhar     Addres\n",
            "0  Jude        10      12   North Av\n",
            "1   Dom       100      14  South Ave\n",
            "\n",
            "\n",
            "    Hey  Marks  Your Ass  Aadhar    Addres\n",
            "0  Jude      1        10      12  North Av\n"
          ]
        }
      ]
    },
    {
      "cell_type": "markdown",
      "source": [
        "##Iterating in DF"
      ],
      "metadata": {
        "id": "wlwUe2r4s4c1"
      }
    },
    {
      "cell_type": "code",
      "source": [
        "#For iterating rows\n",
        "for row in df.iterrows():\n",
        "  print(row)"
      ],
      "metadata": {
        "colab": {
          "base_uri": "https://localhost:8080/"
        },
        "id": "RZsBpeOes6OJ",
        "outputId": "7dda46ac-2a6a-4783-8e24-69f66b0cc1f2"
      },
      "execution_count": 28,
      "outputs": [
        {
          "output_type": "stream",
          "name": "stdout",
          "text": [
            "(0, Hey             Jude\n",
            "Marks              1\n",
            "Your Ass          10\n",
            "Aadhar            12\n",
            "Addres      North Av\n",
            "Name: 0, dtype: object)\n",
            "(1, Hey               Dom\n",
            "Marks               2\n",
            "Your Ass          100\n",
            "Aadhar             14\n",
            "Addres      South Ave\n",
            "Name: 1, dtype: object)\n"
          ]
        }
      ]
    },
    {
      "cell_type": "code",
      "source": [
        "#to iterate as tuple objects\n",
        "\n",
        "for row in df.itertuples():\n",
        "  print(row)"
      ],
      "metadata": {
        "colab": {
          "base_uri": "https://localhost:8080/"
        },
        "id": "rtnIQtXLs8x8",
        "outputId": "4ee563a0-a293-467c-f581-87aab0620797"
      },
      "execution_count": 29,
      "outputs": [
        {
          "output_type": "stream",
          "name": "stdout",
          "text": [
            "Pandas(Index=0, Hey='Jude', Marks=1, _3=10, Aadhar=12, Addres='North Av')\n",
            "Pandas(Index=1, Hey='Dom', Marks=2, _3=100, Aadhar=14, Addres='South Ave')\n"
          ]
        }
      ]
    },
    {
      "cell_type": "code",
      "source": [],
      "metadata": {
        "id": "N9o5-CSatZWG"
      },
      "execution_count": null,
      "outputs": []
    }
  ]
}