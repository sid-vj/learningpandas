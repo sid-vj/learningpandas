{
  "nbformat": 4,
  "nbformat_minor": 0,
  "metadata": {
    "colab": {
      "provenance": [],
      "authorship_tag": "ABX9TyPRBRQywi4Eu6NW/b3d9fLF",
      "include_colab_link": true
    },
    "kernelspec": {
      "name": "python3",
      "display_name": "Python 3"
    },
    "language_info": {
      "name": "python"
    }
  },
  "cells": [
    {
      "cell_type": "markdown",
      "metadata": {
        "id": "view-in-github",
        "colab_type": "text"
      },
      "source": [
        "<a href=\"https://colab.research.google.com/github/sid-vj/learningpandas/blob/main/6PandasDataCleaning.ipynb\" target=\"_parent\"><img src=\"https://colab.research.google.com/assets/colab-badge.svg\" alt=\"Open In Colab\"/></a>"
      ]
    },
    {
      "cell_type": "markdown",
      "source": [
        "#Cleaning the data"
      ],
      "metadata": {
        "id": "D5zyMwZ2uQPX"
      }
    },
    {
      "cell_type": "code",
      "execution_count": null,
      "metadata": {
        "id": "Mcwt8ndeuHnG"
      },
      "outputs": [],
      "source": [
        "import pandas as pd\n",
        "\n",
        "df = pd.read_csv(\"demo.csv\")\n",
        "print(df)"
      ]
    },
    {
      "cell_type": "markdown",
      "source": [
        "##Cleaning Operations"
      ],
      "metadata": {
        "id": "TgksF9zLwTxp"
      }
    },
    {
      "cell_type": "code",
      "source": [
        "#isnull() reaplces all null values with True\n",
        "\n",
        "res = df.isnull()\n",
        "print(res)"
      ],
      "metadata": {
        "colab": {
          "base_uri": "https://localhost:8080/"
        },
        "id": "MQ0p9eqZwHTK",
        "outputId": "4ea3332c-d892-4bb4-fc04-bd92876a9d02"
      },
      "execution_count": 5,
      "outputs": [
        {
          "output_type": "stream",
          "name": "stdout",
          "text": [
            "    Name   Dept\n",
            "0  False  False\n",
            "1  False   True\n",
            "2  False  False\n",
            "3  False  False\n",
            "4  False   True\n"
          ]
        }
      ]
    },
    {
      "cell_type": "code",
      "source": [
        "#notnull() replaces all not null value as true\n",
        "\n",
        "res = df.notnull()\n",
        "print(res)"
      ],
      "metadata": {
        "colab": {
          "base_uri": "https://localhost:8080/"
        },
        "id": "R3660jItwZcj",
        "outputId": "642637fe-cd79-4582-a52a-13893679c17f"
      },
      "execution_count": 6,
      "outputs": [
        {
          "output_type": "stream",
          "name": "stdout",
          "text": [
            "   Name   Dept\n",
            "0  True   True\n",
            "1  True  False\n",
            "2  True   True\n",
            "3  True   True\n",
            "4  True  False\n"
          ]
        }
      ]
    },
    {
      "cell_type": "code",
      "source": [
        "#dropna() drops all null values\n",
        "\n",
        "res = df.dropna()\n",
        "print(res)"
      ],
      "metadata": {
        "id": "vn1ghaolwkud"
      },
      "execution_count": null,
      "outputs": []
    },
    {
      "cell_type": "code",
      "source": [
        "#fillna replaces all null values with specific value\n",
        "\n",
        "res = df.fillna(\"CSBS\")\n",
        "print(res)"
      ],
      "metadata": {
        "id": "Tz4qvk3kw1C1"
      },
      "execution_count": null,
      "outputs": []
    },
    {
      "cell_type": "markdown",
      "source": [
        "##Removing whitespaces"
      ],
      "metadata": {
        "id": "7eR3uh2N2DMK"
      }
    },
    {
      "cell_type": "code",
      "source": [
        "data2 = [\"!Dan\", \"Anu\\n\\n\", \"Ajay\\t\"]\n",
        "s = pd.Series(data2)\n",
        "print(s)"
      ],
      "metadata": {
        "id": "3yeQ4ET1w952",
        "outputId": "3f903994-a593-4980-e9b6-e381a7d402f8",
        "colab": {
          "base_uri": "https://localhost:8080/"
        }
      },
      "execution_count": 9,
      "outputs": [
        {
          "output_type": "stream",
          "name": "stdout",
          "text": [
            "0       !Dan\n",
            "1    Anu\\n\\n\n",
            "2     Ajay\\t\n",
            "dtype: object\n"
          ]
        }
      ]
    },
    {
      "cell_type": "code",
      "source": [
        "#Whatever we give in paranthesis will be striped\n",
        "\n",
        "print(s.str.strip('!\\n\\t'))"
      ],
      "metadata": {
        "id": "kyWWqsvN2m5M",
        "outputId": "d2822361-1cdd-4726-cc64-6dcfee615dd4",
        "colab": {
          "base_uri": "https://localhost:8080/"
        }
      },
      "execution_count": 12,
      "outputs": [
        {
          "output_type": "stream",
          "name": "stdout",
          "text": [
            "0     Dan\n",
            "1     Anu\n",
            "2    Ajay\n",
            "dtype: object\n"
          ]
        }
      ]
    },
    {
      "cell_type": "code",
      "source": [],
      "metadata": {
        "id": "r-RKtAFZ3Pm3"
      },
      "execution_count": null,
      "outputs": []
    }
  ]
}