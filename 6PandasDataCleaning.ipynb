{
  "nbformat": 4,
  "nbformat_minor": 0,
  "metadata": {
    "colab": {
      "provenance": [],
      "authorship_tag": "ABX9TyOAlWot3LCoUunLuY6YEpSO",
      "include_colab_link": true
    },
    "kernelspec": {
      "name": "python3",
      "display_name": "Python 3"
    },
    "language_info": {
      "name": "python"
    }
  },
  "cells": [
    {
      "cell_type": "markdown",
      "metadata": {
        "id": "view-in-github",
        "colab_type": "text"
      },
      "source": [
        "<a href=\"https://colab.research.google.com/github/sid-vj/learningpandas/blob/main/6PandasDataCleaning.ipynb\" target=\"_parent\"><img src=\"https://colab.research.google.com/assets/colab-badge.svg\" alt=\"Open In Colab\"/></a>"
      ]
    },
    {
      "cell_type": "markdown",
      "source": [
        "#Cleaning the data"
      ],
      "metadata": {
        "id": "D5zyMwZ2uQPX"
      }
    },
    {
      "cell_type": "code",
      "execution_count": null,
      "metadata": {
        "id": "Mcwt8ndeuHnG"
      },
      "outputs": [],
      "source": [
        "import pandas as pd\n",
        "\n",
        "df = pd.read_csv(\"demo.csv\")\n",
        "print(df)"
      ]
    },
    {
      "cell_type": "markdown",
      "source": [
        "##Cleaning Operations"
      ],
      "metadata": {
        "id": "TgksF9zLwTxp"
      }
    },
    {
      "cell_type": "code",
      "source": [
        "#isnull() reaplces all null values with True\n",
        "\n",
        "res = df.isnull()\n",
        "print(res)"
      ],
      "metadata": {
        "colab": {
          "base_uri": "https://localhost:8080/"
        },
        "id": "MQ0p9eqZwHTK",
        "outputId": "aa5ec771-89ce-4a29-94df-a9f936dc07c6"
      },
      "execution_count": null,
      "outputs": [
        {
          "output_type": "stream",
          "name": "stdout",
          "text": [
            "    Name   Dept\n",
            "0  False  False\n",
            "1  False   True\n",
            "2  False  False\n",
            "3  False  False\n",
            "4  False   True\n"
          ]
        }
      ]
    },
    {
      "cell_type": "code",
      "source": [
        "#notnull() replaces all not null value as true\n",
        "\n",
        "res = df.notnull()\n",
        "print(res)"
      ],
      "metadata": {
        "colab": {
          "base_uri": "https://localhost:8080/"
        },
        "id": "R3660jItwZcj",
        "outputId": "eba65ab7-9055-454f-dac3-c4347fdef854"
      },
      "execution_count": null,
      "outputs": [
        {
          "output_type": "stream",
          "name": "stdout",
          "text": [
            "   Name   Dept\n",
            "0  True   True\n",
            "1  True  False\n",
            "2  True   True\n",
            "3  True   True\n",
            "4  True  False\n"
          ]
        }
      ]
    },
    {
      "cell_type": "code",
      "source": [
        "#dropna() drops all null values\n",
        "\n",
        "res = df.dropna()\n",
        "print(res)"
      ],
      "metadata": {
        "id": "vn1ghaolwkud"
      },
      "execution_count": null,
      "outputs": []
    },
    {
      "cell_type": "code",
      "source": [
        "#fillna replaces all null values with specific value\n",
        "\n",
        "res = df.fillna(\"CSBS\")\n",
        "print(res)"
      ],
      "metadata": {
        "id": "Tz4qvk3kw1C1"
      },
      "execution_count": null,
      "outputs": []
    },
    {
      "cell_type": "code",
      "source": [],
      "metadata": {
        "id": "3yeQ4ET1w952"
      },
      "execution_count": null,
      "outputs": []
    }
  ]
}