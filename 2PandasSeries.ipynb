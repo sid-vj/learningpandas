{
  "nbformat": 4,
  "nbformat_minor": 0,
  "metadata": {
    "colab": {
      "provenance": [],
      "authorship_tag": "ABX9TyMZpOdu24LaIDIEuQggzl51",
      "include_colab_link": true
    },
    "kernelspec": {
      "name": "python3",
      "display_name": "Python 3"
    },
    "language_info": {
      "name": "python"
    }
  },
  "cells": [
    {
      "cell_type": "markdown",
      "metadata": {
        "id": "view-in-github",
        "colab_type": "text"
      },
      "source": [
        "<a href=\"https://colab.research.google.com/github/sid-vj/learningpandas/blob/main/2PandasSeries.ipynb\" target=\"_parent\"><img src=\"https://colab.research.google.com/assets/colab-badge.svg\" alt=\"Open In Colab\"/></a>"
      ]
    },
    {
      "cell_type": "markdown",
      "source": [
        "#Series in Pandas\n"
      ],
      "metadata": {
        "id": "uEAF2b972mb0"
      }
    },
    {
      "cell_type": "markdown",
      "source": [
        "##Series Basics"
      ],
      "metadata": {
        "id": "BJVIjLMs2qnZ"
      }
    },
    {
      "cell_type": "code",
      "source": [
        "import pandas as pd"
      ],
      "metadata": {
        "id": "RLqnLAPa2sWK"
      },
      "execution_count": null,
      "outputs": []
    },
    {
      "cell_type": "code",
      "source": [
        "#Data\n",
        "\n",
        "data = [10,20,30,40,50]\n",
        "\n",
        "#Creating series using series method\n",
        "\n",
        "s = pd.Series(data, name=\"Records\")\n",
        "print(s)"
      ],
      "metadata": {
        "colab": {
          "base_uri": "https://localhost:8080/"
        },
        "id": "sS1k-BGf2v7K",
        "outputId": "f9d85b68-f835-4c23-c627-ae9b7248ab0c"
      },
      "execution_count": null,
      "outputs": [
        {
          "output_type": "stream",
          "name": "stdout",
          "text": [
            "0    10\n",
            "1    20\n",
            "2    30\n",
            "3    40\n",
            "4    50\n",
            "Name: Records, dtype: int64\n"
          ]
        }
      ]
    },
    {
      "cell_type": "code",
      "source": [
        "#Accessing a value from Series\n",
        "\n",
        "print(s[2]) #similar to py list indexing.3"
      ],
      "metadata": {
        "colab": {
          "base_uri": "https://localhost:8080/"
        },
        "id": "3tILjMOJ24YU",
        "outputId": "47aa0861-9a7c-4738-f890-d54112ebe3e2"
      },
      "execution_count": null,
      "outputs": [
        {
          "output_type": "stream",
          "name": "stdout",
          "text": [
            "30\n"
          ]
        }
      ]
    },
    {
      "cell_type": "markdown",
      "source": [
        "##Attributes & Methods\n"
      ],
      "metadata": {
        "id": "1S9el_yu5jQZ"
      }
    },
    {
      "cell_type": "code",
      "source": [
        "#ndim\n",
        "\n",
        "print(s.ndim)"
      ],
      "metadata": {
        "colab": {
          "base_uri": "https://localhost:8080/"
        },
        "id": "ROjNi6lZ5mMy",
        "outputId": "cb3bca10-3a3f-4ab9-afe7-21c9fe5a484d"
      },
      "execution_count": null,
      "outputs": [
        {
          "output_type": "stream",
          "name": "stdout",
          "text": [
            "1\n"
          ]
        }
      ]
    },
    {
      "cell_type": "code",
      "source": [
        "#dtype\n",
        "\n",
        "print(s.dtype)"
      ],
      "metadata": {
        "colab": {
          "base_uri": "https://localhost:8080/"
        },
        "id": "_PiRPwmf5pUQ",
        "outputId": "d29de365-4b57-450f-9d39-74679ef0e77f"
      },
      "execution_count": null,
      "outputs": [
        {
          "output_type": "stream",
          "name": "stdout",
          "text": [
            "int64\n"
          ]
        }
      ]
    },
    {
      "cell_type": "code",
      "source": [
        "#size\n",
        "\n",
        "print(s.size)"
      ],
      "metadata": {
        "colab": {
          "base_uri": "https://localhost:8080/"
        },
        "id": "fPyIcXZp5uzT",
        "outputId": "4ab18619-cbb0-4033-8371-d8b2a2b10569"
      },
      "execution_count": null,
      "outputs": [
        {
          "output_type": "stream",
          "name": "stdout",
          "text": [
            "5\n"
          ]
        }
      ]
    },
    {
      "cell_type": "code",
      "source": [
        "#hasnans: display true if series has NaNs (none) in series\n",
        "\n",
        "print(s.hasnans)"
      ],
      "metadata": {
        "colab": {
          "base_uri": "https://localhost:8080/"
        },
        "id": "eGuvSNBM5xua",
        "outputId": "63b29b1f-6d90-4ccb-ce04-3fa1c2551a72"
      },
      "execution_count": null,
      "outputs": [
        {
          "output_type": "stream",
          "name": "stdout",
          "text": [
            "False\n"
          ]
        }
      ]
    },
    {
      "cell_type": "code",
      "source": [
        "#index\n",
        "print(s.index)"
      ],
      "metadata": {
        "colab": {
          "base_uri": "https://localhost:8080/"
        },
        "id": "fG27HeQo532Q",
        "outputId": "7e92584a-668e-40ed-d58a-9fab669afaaf"
      },
      "execution_count": null,
      "outputs": [
        {
          "output_type": "stream",
          "name": "stdout",
          "text": [
            "RangeIndex(start=0, stop=5, step=1)\n"
          ]
        }
      ]
    },
    {
      "cell_type": "code",
      "source": [
        "#head()\n",
        "\n",
        "print(s.head(2))"
      ],
      "metadata": {
        "colab": {
          "base_uri": "https://localhost:8080/"
        },
        "id": "8kuGez_t55zK",
        "outputId": "e638d5c0-c61f-490d-9fd8-86948ef25316"
      },
      "execution_count": null,
      "outputs": [
        {
          "output_type": "stream",
          "name": "stdout",
          "text": [
            "0    10\n",
            "1    20\n",
            "dtype: int64\n"
          ]
        }
      ]
    },
    {
      "cell_type": "code",
      "source": [
        "#tail()\n",
        "\n",
        "print(s.tail())\n",
        "print(s.tail(2))"
      ],
      "metadata": {
        "colab": {
          "base_uri": "https://localhost:8080/"
        },
        "id": "fsbyLkwX6BU2",
        "outputId": "350a5e60-e0c1-4ef1-8577-33af1512bf32"
      },
      "execution_count": null,
      "outputs": [
        {
          "output_type": "stream",
          "name": "stdout",
          "text": [
            "0    10\n",
            "1    20\n",
            "2    30\n",
            "3    40\n",
            "4    50\n",
            "dtype: int64\n",
            "3    40\n",
            "4    50\n",
            "dtype: int64\n"
          ]
        }
      ]
    },
    {
      "cell_type": "code",
      "source": [
        "#name\n",
        "\n",
        "print(s.name)"
      ],
      "metadata": {
        "colab": {
          "base_uri": "https://localhost:8080/"
        },
        "id": "BeDLDtOs6Ery",
        "outputId": "7edaff22-bc44-4feb-f940-f37392c4a440"
      },
      "execution_count": null,
      "outputs": [
        {
          "output_type": "stream",
          "name": "stdout",
          "text": [
            "Records\n"
          ]
        }
      ]
    },
    {
      "cell_type": "code",
      "source": [
        "print(s.info())"
      ],
      "metadata": {
        "colab": {
          "base_uri": "https://localhost:8080/"
        },
        "id": "y5hB2LoN6cSF",
        "outputId": "0b439bc3-24f1-4fc1-9b08-b418dabe605b"
      },
      "execution_count": null,
      "outputs": [
        {
          "output_type": "stream",
          "name": "stdout",
          "text": [
            "<class 'pandas.core.series.Series'>\n",
            "RangeIndex: 5 entries, 0 to 4\n",
            "Series name: Records\n",
            "Non-Null Count  Dtype\n",
            "--------------  -----\n",
            "5 non-null      int64\n",
            "dtypes: int64(1)\n",
            "memory usage: 172.0 bytes\n",
            "None\n"
          ]
        }
      ]
    },
    {
      "cell_type": "markdown",
      "source": [
        "##Combining two pandas series"
      ],
      "metadata": {
        "id": "WecRosuM7UvS"
      }
    },
    {
      "cell_type": "code",
      "source": [
        "#Datas\n",
        "\n",
        "data1 = [10,20,30,40,50]\n",
        "data2 = [25,26,27,29]\n",
        "\n",
        "s1 = pd.Series(data1)\n",
        "s2 = pd.Series(data2)\n",
        "\n",
        "def demo(x1, x2):\n",
        "  if x1>x2:\n",
        "    return x1\n",
        "  else:\n",
        "    return x2\n",
        "\n",
        "#Combining\n",
        "\n",
        "res = s1.combine(s2,demo)\n",
        "print(res)"
      ],
      "metadata": {
        "colab": {
          "base_uri": "https://localhost:8080/"
        },
        "id": "1qQVG_Z876sC",
        "outputId": "6b197f41-14c6-4ba5-d03a-7fd58d57a081"
      },
      "execution_count": null,
      "outputs": [
        {
          "output_type": "stream",
          "name": "stdout",
          "text": [
            "0    25.0\n",
            "1    26.0\n",
            "2    30.0\n",
            "3    40.0\n",
            "4     NaN\n",
            "dtype: float64\n"
          ]
        }
      ]
    },
    {
      "cell_type": "code",
      "source": [],
      "metadata": {
        "id": "GwMxA2FF8dsW"
      },
      "execution_count": null,
      "outputs": []
    }
  ]
}