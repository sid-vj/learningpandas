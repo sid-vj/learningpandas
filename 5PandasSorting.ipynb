{
  "nbformat": 4,
  "nbformat_minor": 0,
  "metadata": {
    "colab": {
      "provenance": [],
      "authorship_tag": "ABX9TyOz6epD7DYKnNvoGxkkLjcg",
      "include_colab_link": true
    },
    "kernelspec": {
      "name": "python3",
      "display_name": "Python 3"
    },
    "language_info": {
      "name": "python"
    }
  },
  "cells": [
    {
      "cell_type": "markdown",
      "metadata": {
        "id": "view-in-github",
        "colab_type": "text"
      },
      "source": [
        "<a href=\"https://colab.research.google.com/github/sid-vj/learningpandas/blob/main/5PandasSorting.ipynb\" target=\"_parent\"><img src=\"https://colab.research.google.com/assets/colab-badge.svg\" alt=\"Open In Colab\"/></a>"
      ]
    },
    {
      "cell_type": "code",
      "execution_count": 4,
      "metadata": {
        "id": "PeWljyJkqNYy"
      },
      "outputs": [],
      "source": [
        "import pandas as pd"
      ]
    },
    {
      "cell_type": "markdown",
      "source": [
        "#Sorting in Pandas"
      ],
      "metadata": {
        "id": "RAqMq6MJqaN0"
      }
    },
    {
      "cell_type": "code",
      "source": [
        "data = {\n",
        "\n",
        "        'Student': ['Amit','adi','akhil'],\n",
        "        'marks': [12,13,14]\n",
        "}\n",
        "\n",
        "df = pd.DataFrame(data, index = ['row1','row2','row3'])\n",
        "print(df)"
      ],
      "metadata": {
        "colab": {
          "base_uri": "https://localhost:8080/"
        },
        "id": "0sHykx5Fq8sS",
        "outputId": "509a2796-aed5-4f7a-8041-90f29b53b7c1"
      },
      "execution_count": 5,
      "outputs": [
        {
          "output_type": "stream",
          "name": "stdout",
          "text": [
            "     Student  marks\n",
            "row1    Amit     12\n",
            "row2     adi     13\n",
            "row3   akhil     14\n"
          ]
        }
      ]
    },
    {
      "cell_type": "code",
      "source": [
        "#Sorting in ascending\n",
        "\n",
        "print(df.sort_values(by=['marks']))"
      ],
      "metadata": {
        "colab": {
          "base_uri": "https://localhost:8080/"
        },
        "id": "dohQn6fsq9tf",
        "outputId": "b3638d97-644c-4706-e351-a690cb8dca8f"
      },
      "execution_count": 7,
      "outputs": [
        {
          "output_type": "stream",
          "name": "stdout",
          "text": [
            "     Student  marks\n",
            "row1    Amit     12\n",
            "row2     adi     13\n",
            "row3   akhil     14\n"
          ]
        }
      ]
    },
    {
      "cell_type": "code",
      "source": [
        "#Sorting in descending\n",
        "\n",
        "print(df.sort_values(by=['marks'], ascending=False))"
      ],
      "metadata": {
        "colab": {
          "base_uri": "https://localhost:8080/"
        },
        "id": "VPMQOiytrclk",
        "outputId": "98893177-b0e8-416c-c6b1-19111d125488"
      },
      "execution_count": 9,
      "outputs": [
        {
          "output_type": "stream",
          "name": "stdout",
          "text": [
            "     Student  marks\n",
            "row3   akhil     14\n",
            "row2     adi     13\n",
            "row1    Amit     12\n"
          ]
        }
      ]
    },
    {
      "cell_type": "markdown",
      "source": [
        "##Other Related Operations"
      ],
      "metadata": {
        "id": "4et8ZRMbsqMS"
      }
    },
    {
      "cell_type": "code",
      "source": [
        "#Handling Duplicates\n",
        "\n",
        "data2 = {\n",
        "\n",
        "        'stu': ['amit', 'john','david','amar','amit'],\n",
        "        'rank': [1,2,3,4,1]\n",
        "}\n",
        "\n",
        "df = pd.DataFrame(data2)\n",
        "print(df)"
      ],
      "metadata": {
        "colab": {
          "base_uri": "https://localhost:8080/"
        },
        "id": "_SNMIxWir1eI",
        "outputId": "e12fbdff-759c-4062-9cdc-97905a7ef4bc"
      },
      "execution_count": 15,
      "outputs": [
        {
          "output_type": "stream",
          "name": "stdout",
          "text": [
            "     stu  rank\n",
            "0   amit     1\n",
            "1   john     2\n",
            "2  david     3\n",
            "3   amar     4\n",
            "4   amit     1\n"
          ]
        }
      ]
    },
    {
      "cell_type": "code",
      "source": [
        "res = df.duplicated()\n",
        "print(res)"
      ],
      "metadata": {
        "colab": {
          "base_uri": "https://localhost:8080/"
        },
        "id": "HAk5Op86sw2m",
        "outputId": "c9e1691f-0c0c-43fa-f88c-89973bf5bd9e"
      },
      "execution_count": 17,
      "outputs": [
        {
          "output_type": "stream",
          "name": "stdout",
          "text": [
            "0    False\n",
            "1    False\n",
            "2    False\n",
            "3    False\n",
            "4     True\n",
            "dtype: bool\n"
          ]
        }
      ]
    },
    {
      "cell_type": "code",
      "source": [
        "#Remove Duplicates\n",
        "\n",
        "res = df.drop_duplicates()\n",
        "print(res)"
      ],
      "metadata": {
        "colab": {
          "base_uri": "https://localhost:8080/"
        },
        "id": "kixvMFc6tpuI",
        "outputId": "3ab7d4b2-ab8d-44e3-879d-1f2270e275de"
      },
      "execution_count": 18,
      "outputs": [
        {
          "output_type": "stream",
          "name": "stdout",
          "text": [
            "     stu  rank\n",
            "0   amit     1\n",
            "1   john     2\n",
            "2  david     3\n",
            "3   amar     4\n"
          ]
        }
      ]
    }
  ]
}