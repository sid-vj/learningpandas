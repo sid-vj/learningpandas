{
  "nbformat": 4,
  "nbformat_minor": 0,
  "metadata": {
    "colab": {
      "provenance": [],
      "authorship_tag": "ABX9TyMgVuX2uecjB12zZZDWwEVo",
      "include_colab_link": true
    },
    "kernelspec": {
      "name": "python3",
      "display_name": "Python 3"
    },
    "language_info": {
      "name": "python"
    }
  },
  "cells": [
    {
      "cell_type": "markdown",
      "metadata": {
        "id": "view-in-github",
        "colab_type": "text"
      },
      "source": [
        "<a href=\"https://colab.research.google.com/github/sid-vj/learningpandas/blob/main/5PandasSorting.ipynb\" target=\"_parent\"><img src=\"https://colab.research.google.com/assets/colab-badge.svg\" alt=\"Open In Colab\"/></a>"
      ]
    },
    {
      "cell_type": "code",
      "execution_count": 1,
      "metadata": {
        "id": "PeWljyJkqNYy"
      },
      "outputs": [],
      "source": [
        "import pandas as pd"
      ]
    },
    {
      "cell_type": "markdown",
      "source": [
        "#Sorting in Pandas"
      ],
      "metadata": {
        "id": "RAqMq6MJqaN0"
      }
    },
    {
      "cell_type": "code",
      "source": [
        "data = {\n",
        "\n",
        "        'Student': ['Amit','adi','akhil'],\n",
        "        'marks': [12,13,14]\n",
        "}\n",
        "\n",
        "df = pd.DataFrame(data, index = ['row1','row2','row3'])\n",
        "print(df)"
      ],
      "metadata": {
        "colab": {
          "base_uri": "https://localhost:8080/"
        },
        "id": "0sHykx5Fq8sS",
        "outputId": "528e4a94-3d54-49bd-c662-b79c694207b5"
      },
      "execution_count": 2,
      "outputs": [
        {
          "output_type": "stream",
          "name": "stdout",
          "text": [
            "     Student  marks\n",
            "row1    Amit     12\n",
            "row2     adi     13\n",
            "row3   akhil     14\n"
          ]
        }
      ]
    },
    {
      "cell_type": "code",
      "source": [
        "#Sorting in ascending\n",
        "\n",
        "print(df.sort_values(by=['marks']))"
      ],
      "metadata": {
        "colab": {
          "base_uri": "https://localhost:8080/"
        },
        "id": "dohQn6fsq9tf",
        "outputId": "566dc144-bed5-4171-d101-f2f5ca9f7656"
      },
      "execution_count": 3,
      "outputs": [
        {
          "output_type": "stream",
          "name": "stdout",
          "text": [
            "     Student  marks\n",
            "row1    Amit     12\n",
            "row2     adi     13\n",
            "row3   akhil     14\n"
          ]
        }
      ]
    },
    {
      "cell_type": "code",
      "source": [
        "#Sorting in descending\n",
        "\n",
        "print(df.sort_values(by=['marks'], ascending=False))"
      ],
      "metadata": {
        "colab": {
          "base_uri": "https://localhost:8080/"
        },
        "id": "VPMQOiytrclk",
        "outputId": "c8bd694c-c0a5-466a-cfc0-b448fcd30901"
      },
      "execution_count": 4,
      "outputs": [
        {
          "output_type": "stream",
          "name": "stdout",
          "text": [
            "     Student  marks\n",
            "row3   akhil     14\n",
            "row2     adi     13\n",
            "row1    Amit     12\n"
          ]
        }
      ]
    },
    {
      "cell_type": "markdown",
      "source": [
        "##Other Related Operations"
      ],
      "metadata": {
        "id": "4et8ZRMbsqMS"
      }
    },
    {
      "cell_type": "code",
      "source": [
        "#Handling Duplicates\n",
        "\n",
        "data2 = {\n",
        "\n",
        "        'stu': ['amit', 'john','david','amar','amit'],\n",
        "        'rank': [1,2,3,4,1]\n",
        "}\n",
        "\n",
        "df = pd.DataFrame(data2)\n",
        "print(df)"
      ],
      "metadata": {
        "colab": {
          "base_uri": "https://localhost:8080/"
        },
        "id": "_SNMIxWir1eI",
        "outputId": "3be6bcd7-f88f-454a-9531-198c7b95c458"
      },
      "execution_count": 5,
      "outputs": [
        {
          "output_type": "stream",
          "name": "stdout",
          "text": [
            "     stu  rank\n",
            "0   amit     1\n",
            "1   john     2\n",
            "2  david     3\n",
            "3   amar     4\n",
            "4   amit     1\n"
          ]
        }
      ]
    },
    {
      "cell_type": "code",
      "source": [
        "res = df.duplicated()\n",
        "print(res)"
      ],
      "metadata": {
        "colab": {
          "base_uri": "https://localhost:8080/"
        },
        "id": "HAk5Op86sw2m",
        "outputId": "545242d2-5d35-4602-cd62-5096d53d56e9"
      },
      "execution_count": 6,
      "outputs": [
        {
          "output_type": "stream",
          "name": "stdout",
          "text": [
            "0    False\n",
            "1    False\n",
            "2    False\n",
            "3    False\n",
            "4     True\n",
            "dtype: bool\n"
          ]
        }
      ]
    },
    {
      "cell_type": "code",
      "source": [
        "#Remove Duplicates\n",
        "\n",
        "res = df.drop_duplicates()\n",
        "print(res)"
      ],
      "metadata": {
        "colab": {
          "base_uri": "https://localhost:8080/"
        },
        "id": "kixvMFc6tpuI",
        "outputId": "27efe609-c423-4843-d60c-902f5d4fba2e"
      },
      "execution_count": 7,
      "outputs": [
        {
          "output_type": "stream",
          "name": "stdout",
          "text": [
            "     stu  rank\n",
            "0   amit     1\n",
            "1   john     2\n",
            "2  david     3\n",
            "3   amar     4\n"
          ]
        }
      ]
    },
    {
      "cell_type": "markdown",
      "source": [
        "##Grouping Data"
      ],
      "metadata": {
        "id": "B_c2x44I4nML"
      }
    },
    {
      "cell_type": "code",
      "source": [
        "data2 = {\n",
        "\n",
        "         \"name\": ['amit','ajay','bunty','humpty'],\n",
        "         'rank':[1,2,4,3]\n",
        "}\n",
        "df2= pd.DataFrame(data2)\n",
        "print(df2)"
      ],
      "metadata": {
        "id": "3kQX1t-o5GDI",
        "outputId": "e29af66e-ee70-41c0-a3ee-5065a98df510",
        "colab": {
          "base_uri": "https://localhost:8080/"
        }
      },
      "execution_count": 10,
      "outputs": [
        {
          "output_type": "stream",
          "name": "stdout",
          "text": [
            "     name  rank\n",
            "0    amit     1\n",
            "1    ajay     2\n",
            "2   bunty     4\n",
            "3  humpty     3\n"
          ]
        }
      ]
    },
    {
      "cell_type": "code",
      "source": [
        "#group by rank\n",
        "\n",
        "res = df2.groupby('name')\n",
        "print(res.first())"
      ],
      "metadata": {
        "id": "lF-p9NNc5ueS",
        "outputId": "0b224ee9-58ec-4f63-f3df-8ddb50a09768",
        "colab": {
          "base_uri": "https://localhost:8080/"
        }
      },
      "execution_count": 14,
      "outputs": [
        {
          "output_type": "stream",
          "name": "stdout",
          "text": [
            "        rank\n",
            "name        \n",
            "ajay       2\n",
            "amit       1\n",
            "bunty      4\n",
            "humpty     3\n"
          ]
        }
      ]
    },
    {
      "cell_type": "code",
      "source": [
        "#Iterating\n",
        "\n",
        "for name, rank in res:\n",
        "  print(name)\n",
        "  print(rank)"
      ],
      "metadata": {
        "id": "vTPp2asd6sq-",
        "outputId": "f6ab5166-e797-4a16-d7f7-ca17984761f6",
        "colab": {
          "base_uri": "https://localhost:8080/"
        }
      },
      "execution_count": 16,
      "outputs": [
        {
          "output_type": "stream",
          "name": "stdout",
          "text": [
            "ajay\n",
            "   name  rank\n",
            "1  ajay     2\n",
            "amit\n",
            "   name  rank\n",
            "0  amit     1\n",
            "bunty\n",
            "    name  rank\n",
            "2  bunty     4\n",
            "humpty\n",
            "     name  rank\n",
            "3  humpty     3\n"
          ]
        }
      ]
    }
  ]
}