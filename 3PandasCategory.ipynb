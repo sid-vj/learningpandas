{
  "nbformat": 4,
  "nbformat_minor": 0,
  "metadata": {
    "colab": {
      "provenance": [],
      "authorship_tag": "ABX9TyPyWOLcrsUkd5QeZK07lE2S",
      "include_colab_link": true
    },
    "kernelspec": {
      "name": "python3",
      "display_name": "Python 3"
    },
    "language_info": {
      "name": "python"
    }
  },
  "cells": [
    {
      "cell_type": "markdown",
      "metadata": {
        "id": "view-in-github",
        "colab_type": "text"
      },
      "source": [
        "<a href=\"https://colab.research.google.com/github/sid-vj/learningpandas/blob/main/3PandasCategory.ipynb\" target=\"_parent\"><img src=\"https://colab.research.google.com/assets/colab-badge.svg\" alt=\"Open In Colab\"/></a>"
      ]
    },
    {
      "cell_type": "code",
      "execution_count": 1,
      "metadata": {
        "id": "2ejAnSiZfCFq"
      },
      "outputs": [],
      "source": [
        "import pandas as pd"
      ]
    },
    {
      "cell_type": "markdown",
      "source": [
        "#Categorical Data"
      ],
      "metadata": {
        "id": "8D4QqVD4fIxh"
      }
    },
    {
      "cell_type": "markdown",
      "source": [
        "##Categorical Series"
      ],
      "metadata": {
        "id": "L2wujdoYfqux"
      }
    },
    {
      "cell_type": "code",
      "source": [
        "s = pd.Series([1,2,3,4,5,6], dtype=\"category\")\n",
        "print(s)"
      ],
      "metadata": {
        "colab": {
          "base_uri": "https://localhost:8080/"
        },
        "id": "3X6owjqDfIaG",
        "outputId": "b22878aa-84bc-480b-d651-cbed7478bc18"
      },
      "execution_count": 3,
      "outputs": [
        {
          "output_type": "stream",
          "name": "stdout",
          "text": [
            "0    1\n",
            "1    2\n",
            "2    3\n",
            "3    4\n",
            "4    5\n",
            "5    6\n",
            "dtype: category\n",
            "Categories (6, int64): [1, 2, 3, 4, 5, 6]\n"
          ]
        }
      ]
    },
    {
      "cell_type": "markdown",
      "source": [
        "##Categorical Dataframe"
      ],
      "metadata": {
        "id": "CJZ7MwDsftXE"
      }
    },
    {
      "cell_type": "code",
      "source": [
        "data= {\n",
        "\n",
        "       'name': ['raj', 'suraj', 'tanish'],\n",
        "       'no': [1,2,3]\n",
        "}\n",
        "\n",
        "df = pd.DataFrame(data, dtype =\"category\")\n",
        "print(df)"
      ],
      "metadata": {
        "colab": {
          "base_uri": "https://localhost:8080/"
        },
        "id": "sAJzUdFtfUDm",
        "outputId": "53ee53a0-4e1b-40ce-d719-8858c56c9610"
      },
      "execution_count": 6,
      "outputs": [
        {
          "output_type": "stream",
          "name": "stdout",
          "text": [
            "     name no\n",
            "0     raj  1\n",
            "1   suraj  2\n",
            "2  tanish  3\n"
          ]
        }
      ]
    },
    {
      "cell_type": "markdown",
      "source": [
        "##Operations on Categories"
      ],
      "metadata": {
        "id": "xbJGXIJJgdOe"
      }
    },
    {
      "cell_type": "code",
      "source": [
        "#Append new categories\n",
        "\n",
        "s = s.cat.add_categories(\"hey\")\n",
        "print(s)"
      ],
      "metadata": {
        "colab": {
          "base_uri": "https://localhost:8080/"
        },
        "id": "SZW-xzIdgfgV",
        "outputId": "f74da5d6-7c06-4200-861e-57193b197cd5"
      },
      "execution_count": 7,
      "outputs": [
        {
          "output_type": "stream",
          "name": "stdout",
          "text": [
            "0    1\n",
            "1    2\n",
            "2    3\n",
            "3    4\n",
            "4    5\n",
            "5    6\n",
            "dtype: category\n",
            "Categories (7, object): [1, 2, 3, 4, 5, 6, 'hey']\n"
          ]
        }
      ]
    },
    {
      "cell_type": "code",
      "source": [
        "s = s.cat.remove_categories(\"hey\")\n",
        "print(s)"
      ],
      "metadata": {
        "colab": {
          "base_uri": "https://localhost:8080/"
        },
        "id": "Fl1pbPIzgvOE",
        "outputId": "70fdf141-6599-4038-c756-00d1f25ee3f3"
      },
      "execution_count": 8,
      "outputs": [
        {
          "output_type": "stream",
          "name": "stdout",
          "text": [
            "0    1\n",
            "1    2\n",
            "2    3\n",
            "3    4\n",
            "4    5\n",
            "5    6\n",
            "dtype: category\n",
            "Categories (6, object): [1, 2, 3, 4, 5, 6]\n"
          ]
        }
      ]
    },
    {
      "cell_type": "code",
      "source": [],
      "metadata": {
        "id": "Fjp-8oaphOtk"
      },
      "execution_count": null,
      "outputs": []
    }
  ]
}