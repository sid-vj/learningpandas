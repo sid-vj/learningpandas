{
  "nbformat": 4,
  "nbformat_minor": 0,
  "metadata": {
    "colab": {
      "provenance": [],
      "authorship_tag": "ABX9TyMyqwxLhMRN+V6hazeRKYu8",
      "include_colab_link": true
    },
    "kernelspec": {
      "name": "python3",
      "display_name": "Python 3"
    },
    "language_info": {
      "name": "python"
    }
  },
  "cells": [
    {
      "cell_type": "markdown",
      "metadata": {
        "id": "view-in-github",
        "colab_type": "text"
      },
      "source": [
        "<a href=\"https://colab.research.google.com/github/sid-vj/learningpandas/blob/main/7PandasDatetimeops.ipynb\" target=\"_parent\"><img src=\"https://colab.research.google.com/assets/colab-badge.svg\" alt=\"Open In Colab\"/></a>"
      ]
    },
    {
      "cell_type": "code",
      "execution_count": 1,
      "metadata": {
        "id": "VU2DmEnnxzo2"
      },
      "outputs": [],
      "source": [
        "import pandas as pd"
      ]
    },
    {
      "cell_type": "markdown",
      "source": [
        "#Date Time Operations"
      ],
      "metadata": {
        "id": "seuEUjXzyDD7"
      }
    },
    {
      "cell_type": "code",
      "source": [
        "#Get current date n time\n",
        "\n",
        "print(pd.Timestamp.now())"
      ],
      "metadata": {
        "colab": {
          "base_uri": "https://localhost:8080/"
        },
        "id": "EUbH_2B-yCuH",
        "outputId": "01516197-78fd-419e-f9e4-816f8006a1c7"
      },
      "execution_count": 4,
      "outputs": [
        {
          "output_type": "stream",
          "name": "stdout",
          "text": [
            "2025-08-30 16:29:37.149480\n"
          ]
        }
      ]
    },
    {
      "cell_type": "code",
      "source": [
        "timstamp = pd.Timestamp(year=2025, month=8, day=30, hour=12)\n",
        "print(timstamp)"
      ],
      "metadata": {
        "colab": {
          "base_uri": "https://localhost:8080/"
        },
        "id": "iX1hfT24z8AJ",
        "outputId": "c5931381-4615-4d9e-d57a-82237e63ceb8"
      },
      "execution_count": 7,
      "outputs": [
        {
          "output_type": "stream",
          "name": "stdout",
          "text": [
            "2025-08-30 12:00:00\n"
          ]
        }
      ]
    },
    {
      "cell_type": "code",
      "source": [
        "#to get day of week\n",
        "\n",
        "print(timstamp.dayofweek)"
      ],
      "metadata": {
        "colab": {
          "base_uri": "https://localhost:8080/"
        },
        "id": "2J155nA-0coA",
        "outputId": "a110ecea-9fe3-4223-8005-583d2d2e6f10"
      },
      "execution_count": 8,
      "outputs": [
        {
          "output_type": "stream",
          "name": "stdout",
          "text": [
            "5\n"
          ]
        }
      ]
    },
    {
      "cell_type": "code",
      "source": [
        "#to get day of year\n",
        "\n",
        "print(timstamp.dayofyear)"
      ],
      "metadata": {
        "colab": {
          "base_uri": "https://localhost:8080/"
        },
        "id": "Qh11-yp70ipG",
        "outputId": "c7780b9f-e713-4e13-9cc0-a15fecf04f9a"
      },
      "execution_count": 10,
      "outputs": [
        {
          "output_type": "stream",
          "name": "stdout",
          "text": [
            "242\n"
          ]
        }
      ]
    },
    {
      "cell_type": "code",
      "source": [
        "#to get days in month\n",
        "\n",
        "print(timstamp.daysinmonth)"
      ],
      "metadata": {
        "colab": {
          "base_uri": "https://localhost:8080/"
        },
        "id": "lsvstl_d0w10",
        "outputId": "365d81ee-a624-419c-cba8-ce86ff300296"
      },
      "execution_count": 11,
      "outputs": [
        {
          "output_type": "stream",
          "name": "stdout",
          "text": [
            "31\n"
          ]
        }
      ]
    }
  ]
}