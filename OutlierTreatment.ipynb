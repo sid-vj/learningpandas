{
  "nbformat": 4,
  "nbformat_minor": 0,
  "metadata": {
    "colab": {
      "provenance": [],
      "authorship_tag": "ABX9TyPUZ5sTuEE6s76OTteoVDRs",
      "include_colab_link": true
    },
    "kernelspec": {
      "name": "python3",
      "display_name": "Python 3"
    },
    "language_info": {
      "name": "python"
    }
  },
  "cells": [
    {
      "cell_type": "markdown",
      "metadata": {
        "id": "view-in-github",
        "colab_type": "text"
      },
      "source": [
        "<a href=\"https://colab.research.google.com/github/sid-vj/learningpandas/blob/main/OutlierTreatment.ipynb\" target=\"_parent\"><img src=\"https://colab.research.google.com/assets/colab-badge.svg\" alt=\"Open In Colab\"/></a>"
      ]
    },
    {
      "cell_type": "code",
      "execution_count": 14,
      "metadata": {
        "id": "jLHKXWk0dPru"
      },
      "outputs": [],
      "source": [
        "import pandas as pd\n",
        "from google.colab import drive\n",
        "import statistics as st\n",
        "import numpy as np"
      ]
    },
    {
      "cell_type": "code",
      "source": [
        "#Reading Data\n",
        "\n",
        "data = pd.read_csv(\"raw_sales.csv\")\n",
        "print(data)"
      ],
      "metadata": {
        "colab": {
          "base_uri": "https://localhost:8080/"
        },
        "id": "2k2o6aczdbUC",
        "outputId": "2dd06ab3-fcaa-4066-9ca8-572635563281"
      },
      "execution_count": 4,
      "outputs": [
        {
          "output_type": "stream",
          "name": "stdout",
          "text": [
            "                  datesold  postcode   price propertyType  bedrooms\n",
            "0      2007-02-07 00:00:00      2607  525000        house         4\n",
            "1      2007-02-27 00:00:00      2906  290000        house         3\n",
            "2      2007-03-07 00:00:00      2905  328000        house         3\n",
            "3      2007-03-09 00:00:00      2905  380000        house         4\n",
            "4      2007-03-21 00:00:00      2906  310000        house         3\n",
            "...                    ...       ...     ...          ...       ...\n",
            "29575  2019-07-25 00:00:00      2900  500000         unit         3\n",
            "29576  2019-07-25 00:00:00      2612  560000         unit         2\n",
            "29577  2019-07-26 00:00:00      2912  464950         unit         2\n",
            "29578  2019-07-26 00:00:00      2601  589000         unit         2\n",
            "29579  2019-07-26 00:00:00      2612  775000         unit         2\n",
            "\n",
            "[29580 rows x 5 columns]\n"
          ]
        }
      ]
    },
    {
      "cell_type": "code",
      "source": [
        "def find_outliers(data):\n",
        "  outliers = []\n",
        "\n",
        "  #Calculating Std Dev & Mean.\n",
        "  data_std_dev = st.stdev(data)\n",
        "  data_mean = st.mean(data)\n",
        "\n",
        "  #Setting Cutoff for outlier treatment.\n",
        "  outlier_cut_off = data_std_dev * 3\n",
        "\n",
        "  lower_limit = data_mean - outlier_cut_off\n",
        "  upper_limit = data_mean + outlier_cut_off\n",
        "\n",
        "  for anamoly in data:\n",
        "    if anamoly > upper_limit or anamoly < lower_limit:\n",
        "      outliers.append(anamoly)\n",
        "  return outliers"
      ],
      "metadata": {
        "id": "5H3IW3T2eKEE"
      },
      "execution_count": 7,
      "outputs": []
    },
    {
      "cell_type": "code",
      "source": [
        "list1= find_outliers(data['price'])"
      ],
      "metadata": {
        "id": "4en7x1stegPb"
      },
      "execution_count": 8,
      "outputs": []
    },
    {
      "cell_type": "code",
      "source": [
        "len(list1)"
      ],
      "metadata": {
        "colab": {
          "base_uri": "https://localhost:8080/"
        },
        "id": "6K2XJ-iXf19N",
        "outputId": "022825b7-ec3b-4d2a-9275-6c3a91cfa44b"
      },
      "execution_count": 9,
      "outputs": [
        {
          "output_type": "execute_result",
          "data": {
            "text/plain": [
              "461"
            ]
          },
          "metadata": {},
          "execution_count": 9
        }
      ]
    },
    {
      "cell_type": "code",
      "source": [
        "import seaborn as sns\n",
        "sns.kdeplot(data.price)"
      ],
      "metadata": {
        "colab": {
          "base_uri": "https://localhost:8080/",
          "height": 482
        },
        "id": "3L9SxIpif3vW",
        "outputId": "f673cf8f-a702-447a-ef15-8dbf1c103838"
      },
      "execution_count": 12,
      "outputs": [
        {
          "output_type": "execute_result",
          "data": {
            "text/plain": [
              "<Axes: xlabel='price', ylabel='Density'>"
            ]
          },
          "metadata": {},
          "execution_count": 12
        },
        {
          "output_type": "display_data",
          "data": {
            "text/plain": [
              "<Figure size 640x480 with 1 Axes>"
            ],
            "image/png": "[encoded data removed]"
          },
          "metadata": {}
        }
      ]
    },
    {
      "cell_type": "code",
      "source": [
        "data['price_transformed'] = np.log(data.price)\n",
        "data['price_transformed'].skew()"
      ],
      "metadata": {
        "colab": {
          "base_uri": "https://localhost:8080/"
        },
        "id": "DBMumQMqf-eJ",
        "outputId": "1b1ec751-bdf5-4f9a-d9f5-7aece9f5d8d6"
      },
      "execution_count": 15,
      "outputs": [
        {
          "output_type": "execute_result",
          "data": {
            "text/plain": [
              "np.float64(0.4731646269984763)"
            ]
          },
          "metadata": {},
          "execution_count": 15
        }
      ]
    },
    {
      "cell_type": "code",
      "source": [
        "#Checking for outlier again\n",
        "\n",
        "list2 = find_outliers(data['price_transformed'])"
      ],
      "metadata": {
        "id": "Gzjr6elKgcvP"
      },
      "execution_count": 16,
      "outputs": []
    },
    {
      "cell_type": "code",
      "source": [
        "len(list2) #The amount of outliers have decreased."
      ],
      "metadata": {
        "colab": {
          "base_uri": "https://localhost:8080/"
        },
        "id": "oOELsfELhmG-",
        "outputId": "34a978cc-e72c-47b7-adf7-f839820683df"
      },
      "execution_count": 17,
      "outputs": [
        {
          "output_type": "execute_result",
          "data": {
            "text/plain": [
              "266"
            ]
          },
          "metadata": {},
          "execution_count": 17
        }
      ]
    },
    {
      "cell_type": "code",
      "source": [],
      "metadata": {
        "id": "d1C588AahnlX"
      },
      "execution_count": null,
      "outputs": []
    }
  ]
}