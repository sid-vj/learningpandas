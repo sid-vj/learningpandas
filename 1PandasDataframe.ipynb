{
  "nbformat": 4,
  "nbformat_minor": 0,
  "metadata": {
    "colab": {
      "provenance": [],
      "authorship_tag": "ABX9TyMuDIk+w4do2bA1tUBsYWJA",
      "include_colab_link": true
    },
    "kernelspec": {
      "name": "python3",
      "display_name": "Python 3"
    },
    "language_info": {
      "name": "python"
    }
  },
  "cells": [
    {
      "cell_type": "markdown",
      "metadata": {
        "id": "view-in-github",
        "colab_type": "text"
      },
      "source": [
        "<a href=\"https://colab.research.google.com/github/sid-vj/learningpandas/blob/main/1PandasDataframe.ipynb\" target=\"_parent\"><img src=\"https://colab.research.google.com/assets/colab-badge.svg\" alt=\"Open In Colab\"/></a>"
      ]
    },
    {
      "cell_type": "code",
      "execution_count": null,
      "metadata": {
        "id": "sUQouwZ-W7bn"
      },
      "outputs": [],
      "source": [
        "import pandas as pd\n"
      ]
    },
    {
      "cell_type": "markdown",
      "source": [
        "#Dataframes"
      ],
      "metadata": {
        "id": "L0ROio9fsyHx"
      }
    },
    {
      "cell_type": "code",
      "source": [],
      "metadata": {
        "id": "YUJsYkTLs12y"
      },
      "execution_count": null,
      "outputs": []
    },
    {
      "cell_type": "markdown",
      "source": [
        "##Dataframe Basics"
      ],
      "metadata": {
        "id": "4EXl0YSDs0cK"
      }
    },
    {
      "cell_type": "code",
      "source": [
        "#Dataset\n",
        "\n",
        "data = {\n",
        "\n",
        "        'student':[\"Amit\",\"John\",\"Mohammad\"],\n",
        "        'rank' : [1,2,3],\n",
        "        'marks': [99, 98, 97]\n",
        "}"
      ],
      "metadata": {
        "id": "IXy5L7paXXVF"
      },
      "execution_count": null,
      "outputs": []
    },
    {
      "cell_type": "code",
      "source": [
        "df = pd.DataFrame(data)\n",
        "print(df)"
      ],
      "metadata": {
        "colab": {
          "base_uri": "https://localhost:8080/"
        },
        "id": "v5N2RQ8hXorI",
        "outputId": "491c26ea-d7b1-4fe2-c533-9dfe3782414d"
      },
      "execution_count": null,
      "outputs": [
        {
          "output_type": "stream",
          "name": "stdout",
          "text": [
            "    student  rank  marks\n",
            "0      Amit     1     99\n",
            "1      John     2     98\n",
            "2  Mohammad     3     97\n"
          ]
        }
      ]
    },
    {
      "cell_type": "code",
      "source": [
        "#naming rows\n",
        "df = pd.DataFrame(data, index = [\"RowA\",\"RowB\",\"RowC\"])\n",
        "print(df)"
      ],
      "metadata": {
        "colab": {
          "base_uri": "https://localhost:8080/"
        },
        "id": "Y2Pjr3dMX0pD",
        "outputId": "ceb237c6-d52a-46e4-cd1b-57f7a027f128"
      },
      "execution_count": null,
      "outputs": [
        {
          "output_type": "stream",
          "name": "stdout",
          "text": [
            "       student  rank  marks\n",
            "RowA      Amit     1     99\n",
            "RowB      John     2     98\n",
            "RowC  Mohammad     3     97\n"
          ]
        }
      ]
    },
    {
      "cell_type": "code",
      "source": [
        "# To print the value based on index:\n",
        "\n",
        "print(\"Value: \", df.loc['RowA','student'])\n",
        "print(\"Value: \", df.loc['RowB','rank'])"
      ],
      "metadata": {
        "colab": {
          "base_uri": "https://localhost:8080/"
        },
        "id": "iiHEJFi4YxIl",
        "outputId": "1e625464-85d6-4802-badd-be32ac53b455"
      },
      "execution_count": null,
      "outputs": [
        {
          "output_type": "stream",
          "name": "stdout",
          "text": [
            "Value:  Amit\n",
            "Value:  2\n"
          ]
        }
      ]
    },
    {
      "cell_type": "code",
      "source": [
        "#To access a group of rows and columns by integer positions in a pandas dataframe, we need to use iloc.\n",
        "\n",
        "print(df.iloc[[1,2]]) # this means, first row and second row (index starts at 0)"
      ],
      "metadata": {
        "colab": {
          "base_uri": "https://localhost:8080/"
        },
        "id": "OFQT_fXAZNdd",
        "outputId": "0be46743-5f7e-4946-df6b-8320432c95c3"
      },
      "execution_count": null,
      "outputs": [
        {
          "output_type": "stream",
          "name": "stdout",
          "text": [
            "       student  rank  marks\n",
            "RowB      John     2     98\n",
            "RowC  Mohammad     3     97\n"
          ]
        }
      ]
    },
    {
      "cell_type": "code",
      "source": [
        "df = pd.DataFrame(data, index=['stu1','stu2', 'stu3'])\n",
        "print(df)"
      ],
      "metadata": {
        "colab": {
          "base_uri": "https://localhost:8080/"
        },
        "id": "mesfOnYZptag",
        "outputId": "f997acc1-9fb2-451a-adb1-9df165d7e902"
      },
      "execution_count": null,
      "outputs": [
        {
          "output_type": "stream",
          "name": "stdout",
          "text": [
            "       student  rank  marks\n",
            "stu1      Amit     1     99\n",
            "stu2      John     2     98\n",
            "stu3  Mohammad     3     97\n"
          ]
        }
      ]
    },
    {
      "cell_type": "code",
      "source": [
        "#Iterating a Dataframe using a for loop\n",
        "\n",
        "for col in df:\n",
        "  print(col)"
      ],
      "metadata": {
        "colab": {
          "base_uri": "https://localhost:8080/"
        },
        "id": "B7ehhHIrp0Gb",
        "outputId": "9ebc22c8-5418-4a2a-c48c-d4b28c026a2c"
      },
      "execution_count": null,
      "outputs": [
        {
          "output_type": "stream",
          "name": "stdout",
          "text": [
            "student\n",
            "rank\n",
            "marks\n"
          ]
        }
      ]
    },
    {
      "cell_type": "markdown",
      "source": [
        "##Attributes and Methods of Dataframe"
      ],
      "metadata": {
        "id": "RXl3aQIksp9f"
      }
    },
    {
      "cell_type": "code",
      "source": [
        "#dtypes attribute: gives the datatypes of these columns\n",
        "\n",
        "print(df.dtypes)"
      ],
      "metadata": {
        "colab": {
          "base_uri": "https://localhost:8080/"
        },
        "id": "Z1ha7qfYsuiJ",
        "outputId": "3bdbe7a0-2446-42a3-ed8f-8b5faf1286b9"
      },
      "execution_count": null,
      "outputs": [
        {
          "output_type": "stream",
          "name": "stdout",
          "text": [
            "student    object\n",
            "rank        int64\n",
            "marks       int64\n",
            "dtype: object\n"
          ]
        }
      ]
    },
    {
      "cell_type": "code",
      "source": [
        "#ndim: returns the no of dimensions of the dataframe\n",
        "\n",
        "print(df.ndim)\n",
        "\n",
        "#it is 2 dimnesion as it in a table. refer to definition of dataframe"
      ],
      "metadata": {
        "colab": {
          "base_uri": "https://localhost:8080/"
        },
        "id": "75dR_PIstNT1",
        "outputId": "4c33d078-ed47-4a18-b2fc-187547d81243"
      },
      "execution_count": null,
      "outputs": [
        {
          "output_type": "stream",
          "name": "stdout",
          "text": [
            "2\n"
          ]
        }
      ]
    },
    {
      "cell_type": "code",
      "source": [
        "#size: gets the no of elements in the dataframe\n",
        "\n",
        "print(df.size)"
      ],
      "metadata": {
        "colab": {
          "base_uri": "https://localhost:8080/"
        },
        "id": "N7SB-FEftXTE",
        "outputId": "b653e2e5-3eea-42ae-dfac-5e62ac837522"
      },
      "execution_count": null,
      "outputs": [
        {
          "output_type": "stream",
          "name": "stdout",
          "text": [
            "9\n"
          ]
        }
      ]
    },
    {
      "cell_type": "code",
      "source": [
        "#shape: gives the shape of the dataframe\n",
        "\n",
        "print(df.shape)"
      ],
      "metadata": {
        "colab": {
          "base_uri": "https://localhost:8080/"
        },
        "id": "PILqC4-Bto_O",
        "outputId": "9e62905e-046e-416a-cca5-655af48bcd30"
      },
      "execution_count": null,
      "outputs": [
        {
          "output_type": "stream",
          "name": "stdout",
          "text": [
            "(3, 3)\n"
          ]
        }
      ]
    },
    {
      "cell_type": "code",
      "source": [
        "#index : gies the indices of the dataframe.\n",
        "\n",
        "print(df.index)"
      ],
      "metadata": {
        "colab": {
          "base_uri": "https://localhost:8080/"
        },
        "id": "ilRsJkV5uMCe",
        "outputId": "46b96abd-cd09-4b71-8e8e-cd3dd7e70cf2"
      },
      "execution_count": null,
      "outputs": [
        {
          "output_type": "stream",
          "name": "stdout",
          "text": [
            "Index(['stu1', 'stu2', 'stu3'], dtype='object')\n"
          ]
        }
      ]
    },
    {
      "cell_type": "code",
      "source": [
        "#transpose: it does matrix transpose to the dataframe.\n",
        "\n",
        "print(df.T)"
      ],
      "metadata": {
        "colab": {
          "base_uri": "https://localhost:8080/"
        },
        "id": "h2oIjHTUuUAU",
        "outputId": "25d6105e-2a96-4912-e520-3c92b5146dc6"
      },
      "execution_count": null,
      "outputs": [
        {
          "output_type": "stream",
          "name": "stdout",
          "text": [
            "         stu1  stu2      stu3\n",
            "student  Amit  John  Mohammad\n",
            "rank        1     2         3\n",
            "marks      99    98        97\n"
          ]
        }
      ]
    },
    {
      "cell_type": "code",
      "source": [
        "#head: gives first n rows\n",
        "\n",
        "print(df.head(2)) #gives first 2\n",
        "print(df.head()) #gives all values"
      ],
      "metadata": {
        "colab": {
          "base_uri": "https://localhost:8080/"
        },
        "id": "j9dTBb-EukFp",
        "outputId": "0a4b1b94-4ff8-4feb-d8d2-25fc8e30c4a1"
      },
      "execution_count": null,
      "outputs": [
        {
          "output_type": "stream",
          "name": "stdout",
          "text": [
            "     student  rank  marks\n",
            "stu1    Amit     1     99\n",
            "stu2    John     2     98\n",
            "       student  rank  marks\n",
            "stu1      Amit     1     99\n",
            "stu2      John     2     98\n",
            "stu3  Mohammad     3     97\n"
          ]
        }
      ]
    },
    {
      "cell_type": "code",
      "source": [
        "#tail: gives hte last n rows\n",
        "\n",
        "print(df.tail())\n",
        "print(df.tail(2))"
      ],
      "metadata": {
        "colab": {
          "base_uri": "https://localhost:8080/"
        },
        "id": "igxZNCWKvaTc",
        "outputId": "d001f2ad-8470-461d-ba99-dfbbf072f4b0"
      },
      "execution_count": null,
      "outputs": [
        {
          "output_type": "stream",
          "name": "stdout",
          "text": [
            "       student  rank  marks\n",
            "stu1      Amit     1     99\n",
            "stu2      John     2     98\n",
            "stu3  Mohammad     3     97\n",
            "       student  rank  marks\n",
            "stu2      John     2     98\n",
            "stu3  Mohammad     3     97\n"
          ]
        }
      ]
    },
    {
      "cell_type": "markdown",
      "source": [
        "##Joining Dataframes\n"
      ],
      "metadata": {
        "id": "lEj3YMu_wKV7"
      }
    },
    {
      "cell_type": "code",
      "source": [
        "#Datasets\n",
        "\n",
        "data1 = {\n",
        "\n",
        "         'id': [101,102,103],\n",
        "         'name': ['suresh', 'muthu', 'saro'],\n",
        "         'school': ['dav','cps','sunshine']\n",
        "}\n",
        "\n",
        "data2 = {\n",
        "\n",
        "         'home': ['chromepet', 'pallavaram', 'guindy'],\n",
        "         'clothes': ['jeans', 'tshirt', 'pant']\n",
        "}\n",
        "\n",
        "#Creating dataframes\n",
        "\n",
        "df1 = pd.DataFrame(data1)\n",
        "df2 = pd.DataFrame(data2)\n",
        "\n",
        "print(df1)\n",
        "print(df2)"
      ],
      "metadata": {
        "colab": {
          "base_uri": "https://localhost:8080/"
        },
        "id": "_nkJesb0wMYU",
        "outputId": "02546a5d-6074-4b10-c16f-93dbfb654393"
      },
      "execution_count": null,
      "outputs": [
        {
          "output_type": "stream",
          "name": "stdout",
          "text": [
            "    id    name    school\n",
            "0  101  suresh       dav\n",
            "1  102   muthu       cps\n",
            "2  103    saro  sunshine\n",
            "         home clothes\n",
            "0   chromepet   jeans\n",
            "1  pallavaram  tshirt\n",
            "2      guindy    pant\n"
          ]
        }
      ]
    },
    {
      "cell_type": "code",
      "source": [
        "#joining dataframe\n",
        "\n",
        "resDF = df1.join(df2)\n",
        "print(resDF)"
      ],
      "metadata": {
        "colab": {
          "base_uri": "https://localhost:8080/"
        },
        "id": "O4HTzm05w4Xu",
        "outputId": "b8e870a1-1e41-42a0-e96d-71350d1fdc93"
      },
      "execution_count": null,
      "outputs": [
        {
          "output_type": "stream",
          "name": "stdout",
          "text": [
            "    id    name    school        home clothes\n",
            "0  101  suresh       dav   chromepet   jeans\n",
            "1  102   muthu       cps  pallavaram  tshirt\n",
            "2  103    saro  sunshine      guindy    pant\n"
          ]
        }
      ]
    },
    {
      "cell_type": "markdown",
      "source": [
        "##Concatenate Dataframes\n"
      ],
      "metadata": {
        "id": "6DJFjUJRxfQe"
      }
    },
    {
      "cell_type": "code",
      "source": [
        "#Concatenating Dataframes\n",
        "\n",
        "conDF = pd.concat([df1, df2])\n",
        "print(conDF)"
      ],
      "metadata": {
        "colab": {
          "base_uri": "https://localhost:8080/"
        },
        "id": "5EvLF569xiEI",
        "outputId": "7150af1a-53ee-4ef0-ce50-71763c7683e4"
      },
      "execution_count": null,
      "outputs": [
        {
          "output_type": "stream",
          "name": "stdout",
          "text": [
            "      id    name    school        home clothes\n",
            "0  101.0  suresh       dav         NaN     NaN\n",
            "1  102.0   muthu       cps         NaN     NaN\n",
            "2  103.0    saro  sunshine         NaN     NaN\n",
            "0    NaN     NaN       NaN   chromepet   jeans\n",
            "1    NaN     NaN       NaN  pallavaram  tshirt\n",
            "2    NaN     NaN       NaN      guindy    pant\n"
          ]
        }
      ]
    },
    {
      "cell_type": "code",
      "source": [],
      "metadata": {
        "id": "Z1rPcQLTx8_C"
      },
      "execution_count": null,
      "outputs": []
    }
  ]
}