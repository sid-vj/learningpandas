{
  "nbformat": 4,
  "nbformat_minor": 0,
  "metadata": {
    "colab": {
      "provenance": [],
      "authorship_tag": "ABX9TyM3LE/JYqN0tGB7jD9bBHVI",
      "include_colab_link": true
    },
    "kernelspec": {
      "name": "python3",
      "display_name": "Python 3"
    },
    "language_info": {
      "name": "python"
    }
  },
  "cells": [
    {
      "cell_type": "markdown",
      "metadata": {
        "id": "view-in-github",
        "colab_type": "text"
      },
      "source": [
        "<a href=\"https://colab.research.google.com/github/sid-vj/learningpandas/blob/main/1PandasDataframe.ipynb\" target=\"_parent\"><img src=\"https://colab.research.google.com/assets/colab-badge.svg\" alt=\"Open In Colab\"/></a>"
      ]
    },
    {
      "cell_type": "code",
      "execution_count": null,
      "metadata": {
        "id": "sUQouwZ-W7bn"
      },
      "outputs": [],
      "source": [
        "import pandas as pd\n"
      ]
    },
    {
      "cell_type": "code",
      "source": [
        "#Dataset\n",
        "\n",
        "data = {\n",
        "\n",
        "        'student':[\"Amit\",\"John\",\"Mohammad\"],\n",
        "        'rank' : [1,2,3],\n",
        "        'marks': [99, 98, 97]\n",
        "}"
      ],
      "metadata": {
        "id": "IXy5L7paXXVF"
      },
      "execution_count": null,
      "outputs": []
    },
    {
      "cell_type": "code",
      "source": [
        "df = pd.DataFrame(data)\n",
        "print(df)"
      ],
      "metadata": {
        "colab": {
          "base_uri": "https://localhost:8080/"
        },
        "id": "v5N2RQ8hXorI",
        "outputId": "491c26ea-d7b1-4fe2-c533-9dfe3782414d"
      },
      "execution_count": null,
      "outputs": [
        {
          "output_type": "stream",
          "name": "stdout",
          "text": [
            "    student  rank  marks\n",
            "0      Amit     1     99\n",
            "1      John     2     98\n",
            "2  Mohammad     3     97\n"
          ]
        }
      ]
    },
    {
      "cell_type": "code",
      "source": [
        "#naming rows\n",
        "df = pd.DataFrame(data, index = [\"RowA\",\"RowB\",\"RowC\"])\n",
        "print(df)"
      ],
      "metadata": {
        "colab": {
          "base_uri": "https://localhost:8080/"
        },
        "id": "Y2Pjr3dMX0pD",
        "outputId": "ceb237c6-d52a-46e4-cd1b-57f7a027f128"
      },
      "execution_count": null,
      "outputs": [
        {
          "output_type": "stream",
          "name": "stdout",
          "text": [
            "       student  rank  marks\n",
            "RowA      Amit     1     99\n",
            "RowB      John     2     98\n",
            "RowC  Mohammad     3     97\n"
          ]
        }
      ]
    },
    {
      "cell_type": "code",
      "source": [
        "# To print the value based on index:\n",
        "\n",
        "print(\"Value: \", df.loc['RowA','student'])\n",
        "print(\"Value: \", df.loc['RowB','rank'])"
      ],
      "metadata": {
        "colab": {
          "base_uri": "https://localhost:8080/"
        },
        "id": "iiHEJFi4YxIl",
        "outputId": "1e625464-85d6-4802-badd-be32ac53b455"
      },
      "execution_count": null,
      "outputs": [
        {
          "output_type": "stream",
          "name": "stdout",
          "text": [
            "Value:  Amit\n",
            "Value:  2\n"
          ]
        }
      ]
    },
    {
      "cell_type": "code",
      "source": [
        "#To access a group of rows and columns by integer positions in a pandas dataframe, we need to use iloc.\n",
        "\n",
        "print(df.iloc[[1,2]]) # this means, first row and second row (index starts at 0)"
      ],
      "metadata": {
        "colab": {
          "base_uri": "https://localhost:8080/"
        },
        "id": "OFQT_fXAZNdd",
        "outputId": "0be46743-5f7e-4946-df6b-8320432c95c3"
      },
      "execution_count": null,
      "outputs": [
        {
          "output_type": "stream",
          "name": "stdout",
          "text": [
            "       student  rank  marks\n",
            "RowB      John     2     98\n",
            "RowC  Mohammad     3     97\n"
          ]
        }
      ]
    },
    {
      "cell_type": "code",
      "source": [
        "df = pd.DataFrame(data, index=['stu1','stu2', 'stu3'])\n",
        "print(df)"
      ],
      "metadata": {
        "colab": {
          "base_uri": "https://localhost:8080/"
        },
        "id": "mesfOnYZptag",
        "outputId": "f997acc1-9fb2-451a-adb1-9df165d7e902"
      },
      "execution_count": null,
      "outputs": [
        {
          "output_type": "stream",
          "name": "stdout",
          "text": [
            "       student  rank  marks\n",
            "stu1      Amit     1     99\n",
            "stu2      John     2     98\n",
            "stu3  Mohammad     3     97\n"
          ]
        }
      ]
    },
    {
      "cell_type": "code",
      "source": [
        "#Iterating a Dataframe using a for loop\n",
        "\n",
        "for col in df:\n",
        "  print(col)"
      ],
      "metadata": {
        "colab": {
          "base_uri": "https://localhost:8080/"
        },
        "id": "B7ehhHIrp0Gb",
        "outputId": "9ebc22c8-5418-4a2a-c48c-d4b28c026a2c"
      },
      "execution_count": null,
      "outputs": [
        {
          "output_type": "stream",
          "name": "stdout",
          "text": [
            "student\n",
            "rank\n",
            "marks\n"
          ]
        }
      ]
    },
    {
      "cell_type": "code",
      "source": [],
      "metadata": {
        "id": "aP7qnc-gqUp4"
      },
      "execution_count": null,
      "outputs": []
    }
  ]
}